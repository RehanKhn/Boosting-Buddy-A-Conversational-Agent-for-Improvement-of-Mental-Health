{
  "nbformat": 4,
  "nbformat_minor": 0,
  "metadata": {
    "colab": {
      "name": "IntentClassification.ipynb",
      "provenance": [],
      "collapsed_sections": [],
      "authorship_tag": "ABX9TyPZgCanuT1hI2irM3p3xz1b",
      "include_colab_link": true
    },
    "kernelspec": {
      "name": "python3",
      "display_name": "Python 3"
    },
    "accelerator": "GPU"
  },
  "cells": [
    {
      "cell_type": "markdown",
      "metadata": {
        "id": "view-in-github",
        "colab_type": "text"
      },
      "source": [
        "<a href=\"https://colab.research.google.com/github/RehanKhn/Boosting-Buddy-A-Conversational-Agent-for-Improvement-of-Mental-Health/blob/main/IntentClassification.ipynb\" target=\"_parent\"><img src=\"https://colab.research.google.com/assets/colab-badge.svg\" alt=\"Open In Colab\"/></a>"
      ]
    },
    {
      "cell_type": "code",
      "metadata": {
        "id": "yEGPeAHLTSdC"
      },
      "source": [
        "from pydrive.auth import GoogleAuth\r\n",
        "from pydrive.drive import GoogleDrive\r\n",
        "from google.colab import auth\r\n",
        "from oauth2client.client import GoogleCredentials\r\n",
        "\r\n",
        "import numpy as np\r\n",
        "import pandas as pd\r\n",
        "import matplotlib.pyplot as plt\r\n",
        "import nltk\r\n",
        "from nltk.corpus import stopwords\r\n",
        "from nltk.tokenize import word_tokenize\r\n",
        "from nltk.stem.lancaster import LancasterStemmer\r\n",
        "import re\r\n",
        "from sklearn.model_selection import train_test_split\r\n",
        "from sklearn.preprocessing import OneHotEncoder\r\n",
        "from sklearn.metrics import confusion_matrix\r\n",
        "from keras.preprocessing.text import Tokenizer\r\n",
        "from keras.preprocessing.sequence import pad_sequences\r\n",
        "from keras.utils import to_categorical\r\n",
        "from keras.models import Sequential, load_model\r\n",
        "from keras.layers import Dense, LSTM, Bidirectional, Embedding, Dropout\r\n",
        "from keras.callbacks import ModelCheckpoint"
      ],
      "execution_count": 1,
      "outputs": []
    },
    {
      "cell_type": "code",
      "metadata": {
        "id": "Q7JttD2aTTTM"
      },
      "source": [
        "auth.authenticate_user()\r\n",
        "gauth = GoogleAuth()\r\n",
        "gauth.credentials = GoogleCredentials.get_application_default()\r\n",
        "drive = GoogleDrive(gauth)"
      ],
      "execution_count": 2,
      "outputs": []
    },
    {
      "cell_type": "code",
      "metadata": {
        "id": "PlzLEkVjTW88"
      },
      "source": [
        "downloaded = drive.CreateFile({'id':'1zimqy02if1n1DwDTPGMkzZyHsJsYIeqI'}) \r\n",
        "downloaded.GetContentFile('Dataset.csv')"
      ],
      "execution_count": 3,
      "outputs": []
    },
    {
      "cell_type": "code",
      "metadata": {
        "id": "Q74c5WXuTfV5"
      },
      "source": [
        "def load_dataset(filename):\r\n",
        "  df = pd.read_csv(filename, encoding = \"latin1\", names = [\"Sentence\", \"Intent\"])\r\n",
        "  intent = df[\"Intent\"]\r\n",
        "  unique_intent = list(set(intent))\r\n",
        "  sentences = list(df[\"Sentence\"])  \r\n",
        "  return (intent, unique_intent, sentences)"
      ],
      "execution_count": 4,
      "outputs": []
    },
    {
      "cell_type": "code",
      "metadata": {
        "id": "6Z7a5GD6ThiI"
      },
      "source": [
        "intent, unique_intent, sentences = load_dataset(\"Dataset.csv\")"
      ],
      "execution_count": 5,
      "outputs": []
    },
    {
      "cell_type": "code",
      "metadata": {
        "id": "5b8kMVbdTqtb"
      },
      "source": [
        "stemmer = LancasterStemmer()"
      ],
      "execution_count": 6,
      "outputs": []
    },
    {
      "cell_type": "code",
      "metadata": {
        "id": "QHGXTg0DTtAL"
      },
      "source": [
        "def cleaning(sentences):\r\n",
        "  words = []\r\n",
        "  for s in sentences:\r\n",
        "    clean = re.sub(r'[^ a-z A-Z 0-9]', \" \", s)\r\n",
        "    w = word_tokenize(clean)\r\n",
        "    #stemming\r\n",
        "    words.append([i.lower() for i in w])\r\n",
        "    \r\n",
        "  return words  "
      ],
      "execution_count": 7,
      "outputs": []
    },
    {
      "cell_type": "code",
      "metadata": {
        "id": "ojkiInLyTz28"
      },
      "source": [
        "cleaned_words = cleaning(sentences)"
      ],
      "execution_count": 8,
      "outputs": []
    },
    {
      "cell_type": "code",
      "metadata": {
        "id": "12Pmc18_T2OX"
      },
      "source": [
        "def create_tokenizer(words, filters = '!\"#$%&()*+,-./:;<=>?@[\\]^_`{|}~'):\r\n",
        "  token = Tokenizer(filters = filters)\r\n",
        "  token.fit_on_texts(words)\r\n",
        "  return token"
      ],
      "execution_count": 9,
      "outputs": []
    },
    {
      "cell_type": "code",
      "metadata": {
        "id": "AaS45XNYT4JL"
      },
      "source": [
        "def max_length(words):\r\n",
        "  return(len(max(words, key = len)))"
      ],
      "execution_count": 10,
      "outputs": []
    },
    {
      "cell_type": "code",
      "metadata": {
        "id": "BNFwQoq_T5z4"
      },
      "source": [
        "word_tokenizer = create_tokenizer(cleaned_words)\r\n",
        "vocab_size = len(word_tokenizer.word_index) + 1\r\n",
        "max_length = max_length(cleaned_words)"
      ],
      "execution_count": 11,
      "outputs": []
    },
    {
      "cell_type": "code",
      "metadata": {
        "id": "UsbeDdLnT7nA"
      },
      "source": [
        "def encoding_doc(token, words):\r\n",
        "  return(token.texts_to_sequences(words))"
      ],
      "execution_count": 12,
      "outputs": []
    },
    {
      "cell_type": "code",
      "metadata": {
        "id": "iF8mnlItT9oL"
      },
      "source": [
        "encoded_doc = encoding_doc(word_tokenizer, cleaned_words)"
      ],
      "execution_count": 13,
      "outputs": []
    },
    {
      "cell_type": "code",
      "metadata": {
        "id": "FCOzoqZfT_-A"
      },
      "source": [
        "def padding_doc(encoded_doc, max_length):\r\n",
        "  return(pad_sequences(encoded_doc, maxlen = max_length, padding = \"post\"))"
      ],
      "execution_count": 14,
      "outputs": []
    },
    {
      "cell_type": "code",
      "metadata": {
        "id": "dFi-qiZ-UBLW"
      },
      "source": [
        "padded_doc = padding_doc(encoded_doc, max_length)"
      ],
      "execution_count": 15,
      "outputs": []
    },
    {
      "cell_type": "code",
      "metadata": {
        "id": "ltExJjmnUFWe"
      },
      "source": [
        "output_tokenizer = create_tokenizer(unique_intent, filters = '!\"#$%&()*+,-/:;<=>?@[\\]^`{|}~')"
      ],
      "execution_count": 16,
      "outputs": []
    },
    {
      "cell_type": "code",
      "metadata": {
        "id": "7Os9NfE4UHt_"
      },
      "source": [
        "encoded_output = encoding_doc(output_tokenizer, intent)"
      ],
      "execution_count": 17,
      "outputs": []
    },
    {
      "cell_type": "code",
      "metadata": {
        "id": "epG-0uFwULG1"
      },
      "source": [
        "encoded_output = np.array(encoded_output).reshape(len(encoded_output), 1)"
      ],
      "execution_count": 18,
      "outputs": []
    },
    {
      "cell_type": "code",
      "metadata": {
        "id": "mBUrbHV4UNHT"
      },
      "source": [
        "def one_hot(encode):\r\n",
        "  o = OneHotEncoder(sparse = False)\r\n",
        "  return(o.fit_transform(encode))"
      ],
      "execution_count": 19,
      "outputs": []
    },
    {
      "cell_type": "code",
      "metadata": {
        "id": "qQb0VralUOn5"
      },
      "source": [
        "output_one_hot = one_hot(encoded_output)"
      ],
      "execution_count": 20,
      "outputs": []
    },
    {
      "cell_type": "code",
      "metadata": {
        "id": "S8L06NhiUS4W"
      },
      "source": [
        "train_X, val_X, train_Y, val_Y = train_test_split(padded_doc, output_one_hot, shuffle = True, test_size = 0.2)"
      ],
      "execution_count": 21,
      "outputs": []
    },
    {
      "cell_type": "code",
      "metadata": {
        "id": "W8vYwaUwUVjU"
      },
      "source": [
        "def create_model(vocab_size, max_length):\r\n",
        "  model = Sequential()\r\n",
        "  model.add(Embedding(vocab_size, 128, input_length = max_length, trainable = False))\r\n",
        "  model.add(Bidirectional(LSTM(128)))\r\n",
        "  model.add(Dense(32, activation = \"relu\"))\r\n",
        "  model.add(Dropout(0.5))\r\n",
        "  model.add(Dense(21, activation = \"softmax\"))\r\n",
        "  \r\n",
        "  return model"
      ],
      "execution_count": 22,
      "outputs": []
    },
    {
      "cell_type": "code",
      "metadata": {
        "id": "qW6JsKxGUXd5"
      },
      "source": [
        "model = create_model(vocab_size, max_length)\r\n",
        "\r\n",
        "model.compile(loss = \"categorical_crossentropy\", optimizer = \"adam\", metrics = [\"accuracy\"])"
      ],
      "execution_count": 23,
      "outputs": []
    },
    {
      "cell_type": "code",
      "metadata": {
        "id": "sgGwf_lbUdw8",
        "colab": {
          "base_uri": "https://localhost:8080/"
        },
        "outputId": "82d420cc-eab5-4171-9dc9-e8491fbd1eca"
      },
      "source": [
        "filename = 'model.h5'\r\n",
        "checkpoint = ModelCheckpoint(filename, monitor='val_loss', verbose=1, save_best_only=True, mode='min')\r\n",
        "\r\n",
        "hist = model.fit(train_X, train_Y, epochs = 100, batch_size = 32, validation_data = (val_X, val_Y), callbacks = [checkpoint]\r\n",
        ")"
      ],
      "execution_count": 24,
      "outputs": [
        {
          "output_type": "stream",
          "text": [
            "Epoch 1/100\n",
            "28/28 [==============================] - 6s 44ms/step - loss: 3.0185 - accuracy: 0.0789 - val_loss: 2.8773 - val_accuracy: 0.1659\n",
            "\n",
            "Epoch 00001: val_loss improved from inf to 2.87731, saving model to model.h5\n",
            "Epoch 2/100\n",
            "28/28 [==============================] - 0s 10ms/step - loss: 2.9121 - accuracy: 0.1603 - val_loss: 2.8476 - val_accuracy: 0.1659\n",
            "\n",
            "Epoch 00002: val_loss improved from 2.87731 to 2.84760, saving model to model.h5\n",
            "Epoch 3/100\n",
            "28/28 [==============================] - 0s 9ms/step - loss: 2.8488 - accuracy: 0.1780 - val_loss: 2.7905 - val_accuracy: 0.1659\n",
            "\n",
            "Epoch 00003: val_loss improved from 2.84760 to 2.79055, saving model to model.h5\n",
            "Epoch 4/100\n",
            "28/28 [==============================] - 0s 10ms/step - loss: 2.7826 - accuracy: 0.1764 - val_loss: 2.7477 - val_accuracy: 0.2287\n",
            "\n",
            "Epoch 00004: val_loss improved from 2.79055 to 2.74766, saving model to model.h5\n",
            "Epoch 5/100\n",
            "28/28 [==============================] - 0s 10ms/step - loss: 2.7154 - accuracy: 0.1738 - val_loss: 2.5930 - val_accuracy: 0.2377\n",
            "\n",
            "Epoch 00005: val_loss improved from 2.74766 to 2.59301, saving model to model.h5\n",
            "Epoch 6/100\n",
            "28/28 [==============================] - 0s 10ms/step - loss: 2.6043 - accuracy: 0.1901 - val_loss: 2.4674 - val_accuracy: 0.2735\n",
            "\n",
            "Epoch 00006: val_loss improved from 2.59301 to 2.46743, saving model to model.h5\n",
            "Epoch 7/100\n",
            "28/28 [==============================] - 0s 10ms/step - loss: 2.5381 - accuracy: 0.2475 - val_loss: 2.4044 - val_accuracy: 0.2735\n",
            "\n",
            "Epoch 00007: val_loss improved from 2.46743 to 2.40444, saving model to model.h5\n",
            "Epoch 8/100\n",
            "28/28 [==============================] - 0s 10ms/step - loss: 2.4414 - accuracy: 0.2510 - val_loss: 2.3560 - val_accuracy: 0.3184\n",
            "\n",
            "Epoch 00008: val_loss improved from 2.40444 to 2.35601, saving model to model.h5\n",
            "Epoch 9/100\n",
            "28/28 [==============================] - 0s 10ms/step - loss: 2.3082 - accuracy: 0.3150 - val_loss: 2.3232 - val_accuracy: 0.3453\n",
            "\n",
            "Epoch 00009: val_loss improved from 2.35601 to 2.32324, saving model to model.h5\n",
            "Epoch 10/100\n",
            "28/28 [==============================] - 0s 10ms/step - loss: 2.2685 - accuracy: 0.2957 - val_loss: 2.4210 - val_accuracy: 0.3049\n",
            "\n",
            "Epoch 00010: val_loss did not improve from 2.32324\n",
            "Epoch 11/100\n",
            "28/28 [==============================] - 0s 9ms/step - loss: 2.2478 - accuracy: 0.3154 - val_loss: 2.1833 - val_accuracy: 0.3722\n",
            "\n",
            "Epoch 00011: val_loss improved from 2.32324 to 2.18328, saving model to model.h5\n",
            "Epoch 12/100\n",
            "28/28 [==============================] - 0s 10ms/step - loss: 2.1993 - accuracy: 0.3272 - val_loss: 2.2609 - val_accuracy: 0.3632\n",
            "\n",
            "Epoch 00012: val_loss did not improve from 2.18328\n",
            "Epoch 13/100\n",
            "28/28 [==============================] - 0s 10ms/step - loss: 2.1667 - accuracy: 0.3422 - val_loss: 2.1006 - val_accuracy: 0.3722\n",
            "\n",
            "Epoch 00013: val_loss improved from 2.18328 to 2.10062, saving model to model.h5\n",
            "Epoch 14/100\n",
            "28/28 [==============================] - 0s 10ms/step - loss: 2.0566 - accuracy: 0.3661 - val_loss: 2.0600 - val_accuracy: 0.3812\n",
            "\n",
            "Epoch 00014: val_loss improved from 2.10062 to 2.05995, saving model to model.h5\n",
            "Epoch 15/100\n",
            "28/28 [==============================] - 0s 10ms/step - loss: 2.0330 - accuracy: 0.3502 - val_loss: 2.0427 - val_accuracy: 0.3767\n",
            "\n",
            "Epoch 00015: val_loss improved from 2.05995 to 2.04271, saving model to model.h5\n",
            "Epoch 16/100\n",
            "28/28 [==============================] - 0s 10ms/step - loss: 1.9982 - accuracy: 0.3596 - val_loss: 1.9974 - val_accuracy: 0.4439\n",
            "\n",
            "Epoch 00016: val_loss improved from 2.04271 to 1.99738, saving model to model.h5\n",
            "Epoch 17/100\n",
            "28/28 [==============================] - 0s 10ms/step - loss: 1.9185 - accuracy: 0.4177 - val_loss: 2.0224 - val_accuracy: 0.4260\n",
            "\n",
            "Epoch 00017: val_loss did not improve from 1.99738\n",
            "Epoch 18/100\n",
            "28/28 [==============================] - 0s 10ms/step - loss: 1.9902 - accuracy: 0.3765 - val_loss: 1.8569 - val_accuracy: 0.4170\n",
            "\n",
            "Epoch 00018: val_loss improved from 1.99738 to 1.85693, saving model to model.h5\n",
            "Epoch 19/100\n",
            "28/28 [==============================] - 0s 9ms/step - loss: 1.7981 - accuracy: 0.4436 - val_loss: 1.7785 - val_accuracy: 0.4439\n",
            "\n",
            "Epoch 00019: val_loss improved from 1.85693 to 1.77852, saving model to model.h5\n",
            "Epoch 20/100\n",
            "28/28 [==============================] - 0s 10ms/step - loss: 1.7233 - accuracy: 0.4554 - val_loss: 1.7995 - val_accuracy: 0.4753\n",
            "\n",
            "Epoch 00020: val_loss did not improve from 1.77852\n",
            "Epoch 21/100\n",
            "28/28 [==============================] - 0s 10ms/step - loss: 1.7230 - accuracy: 0.4291 - val_loss: 1.7234 - val_accuracy: 0.4709\n",
            "\n",
            "Epoch 00021: val_loss improved from 1.77852 to 1.72342, saving model to model.h5\n",
            "Epoch 22/100\n",
            "28/28 [==============================] - 0s 10ms/step - loss: 1.6669 - accuracy: 0.4611 - val_loss: 1.7080 - val_accuracy: 0.4888\n",
            "\n",
            "Epoch 00022: val_loss improved from 1.72342 to 1.70795, saving model to model.h5\n",
            "Epoch 23/100\n",
            "28/28 [==============================] - 0s 11ms/step - loss: 1.6379 - accuracy: 0.4837 - val_loss: 1.6362 - val_accuracy: 0.5381\n",
            "\n",
            "Epoch 00023: val_loss improved from 1.70795 to 1.63620, saving model to model.h5\n",
            "Epoch 24/100\n",
            "28/28 [==============================] - 0s 9ms/step - loss: 1.5915 - accuracy: 0.4852 - val_loss: 1.5761 - val_accuracy: 0.5516\n",
            "\n",
            "Epoch 00024: val_loss improved from 1.63620 to 1.57611, saving model to model.h5\n",
            "Epoch 25/100\n",
            "28/28 [==============================] - 0s 9ms/step - loss: 1.5317 - accuracy: 0.5376 - val_loss: 1.5731 - val_accuracy: 0.5516\n",
            "\n",
            "Epoch 00025: val_loss improved from 1.57611 to 1.57311, saving model to model.h5\n",
            "Epoch 26/100\n",
            "28/28 [==============================] - 0s 9ms/step - loss: 1.4157 - accuracy: 0.5572 - val_loss: 1.5703 - val_accuracy: 0.5336\n",
            "\n",
            "Epoch 00026: val_loss improved from 1.57311 to 1.57033, saving model to model.h5\n",
            "Epoch 27/100\n",
            "28/28 [==============================] - 0s 10ms/step - loss: 1.4609 - accuracy: 0.5330 - val_loss: 1.4809 - val_accuracy: 0.5964\n",
            "\n",
            "Epoch 00027: val_loss improved from 1.57033 to 1.48093, saving model to model.h5\n",
            "Epoch 28/100\n",
            "28/28 [==============================] - 0s 9ms/step - loss: 1.4588 - accuracy: 0.5503 - val_loss: 1.4374 - val_accuracy: 0.5874\n",
            "\n",
            "Epoch 00028: val_loss improved from 1.48093 to 1.43744, saving model to model.h5\n",
            "Epoch 29/100\n",
            "28/28 [==============================] - 0s 10ms/step - loss: 1.3869 - accuracy: 0.5616 - val_loss: 1.4194 - val_accuracy: 0.5740\n",
            "\n",
            "Epoch 00029: val_loss improved from 1.43744 to 1.41939, saving model to model.h5\n",
            "Epoch 30/100\n",
            "28/28 [==============================] - 0s 10ms/step - loss: 1.3350 - accuracy: 0.5967 - val_loss: 1.3786 - val_accuracy: 0.6009\n",
            "\n",
            "Epoch 00030: val_loss improved from 1.41939 to 1.37860, saving model to model.h5\n",
            "Epoch 31/100\n",
            "28/28 [==============================] - 0s 11ms/step - loss: 1.2509 - accuracy: 0.5658 - val_loss: 1.3196 - val_accuracy: 0.6368\n",
            "\n",
            "Epoch 00031: val_loss improved from 1.37860 to 1.31960, saving model to model.h5\n",
            "Epoch 32/100\n",
            "28/28 [==============================] - 0s 10ms/step - loss: 1.2307 - accuracy: 0.6047 - val_loss: 1.3647 - val_accuracy: 0.6054\n",
            "\n",
            "Epoch 00032: val_loss did not improve from 1.31960\n",
            "Epoch 33/100\n",
            "28/28 [==============================] - 0s 10ms/step - loss: 1.2209 - accuracy: 0.6142 - val_loss: 1.4870 - val_accuracy: 0.5785\n",
            "\n",
            "Epoch 00033: val_loss did not improve from 1.31960\n",
            "Epoch 34/100\n",
            "28/28 [==============================] - 0s 10ms/step - loss: 1.1514 - accuracy: 0.6004 - val_loss: 1.3977 - val_accuracy: 0.6502\n",
            "\n",
            "Epoch 00034: val_loss did not improve from 1.31960\n",
            "Epoch 35/100\n",
            "28/28 [==============================] - 0s 10ms/step - loss: 1.1640 - accuracy: 0.6296 - val_loss: 1.3301 - val_accuracy: 0.6054\n",
            "\n",
            "Epoch 00035: val_loss did not improve from 1.31960\n",
            "Epoch 36/100\n",
            "28/28 [==============================] - 0s 10ms/step - loss: 1.2072 - accuracy: 0.6154 - val_loss: 1.4255 - val_accuracy: 0.6099\n",
            "\n",
            "Epoch 00036: val_loss did not improve from 1.31960\n",
            "Epoch 37/100\n",
            "28/28 [==============================] - 0s 10ms/step - loss: 1.0652 - accuracy: 0.6766 - val_loss: 1.3094 - val_accuracy: 0.6457\n",
            "\n",
            "Epoch 00037: val_loss improved from 1.31960 to 1.30939, saving model to model.h5\n",
            "Epoch 38/100\n",
            "28/28 [==============================] - 0s 10ms/step - loss: 1.0743 - accuracy: 0.6611 - val_loss: 1.1800 - val_accuracy: 0.6547\n",
            "\n",
            "Epoch 00038: val_loss improved from 1.30939 to 1.17998, saving model to model.h5\n",
            "Epoch 39/100\n",
            "28/28 [==============================] - 0s 9ms/step - loss: 1.0910 - accuracy: 0.6565 - val_loss: 1.1583 - val_accuracy: 0.6906\n",
            "\n",
            "Epoch 00039: val_loss improved from 1.17998 to 1.15831, saving model to model.h5\n",
            "Epoch 40/100\n",
            "28/28 [==============================] - 0s 10ms/step - loss: 1.0153 - accuracy: 0.6900 - val_loss: 1.3121 - val_accuracy: 0.6592\n",
            "\n",
            "Epoch 00040: val_loss did not improve from 1.15831\n",
            "Epoch 41/100\n",
            "28/28 [==============================] - 0s 10ms/step - loss: 1.0147 - accuracy: 0.6890 - val_loss: 1.2134 - val_accuracy: 0.6368\n",
            "\n",
            "Epoch 00041: val_loss did not improve from 1.15831\n",
            "Epoch 42/100\n",
            "28/28 [==============================] - 0s 10ms/step - loss: 0.9859 - accuracy: 0.6918 - val_loss: 1.0911 - val_accuracy: 0.6816\n",
            "\n",
            "Epoch 00042: val_loss improved from 1.15831 to 1.09111, saving model to model.h5\n",
            "Epoch 43/100\n",
            "28/28 [==============================] - 0s 10ms/step - loss: 0.9870 - accuracy: 0.6672 - val_loss: 1.0611 - val_accuracy: 0.6996\n",
            "\n",
            "Epoch 00043: val_loss improved from 1.09111 to 1.06108, saving model to model.h5\n",
            "Epoch 44/100\n",
            "28/28 [==============================] - 0s 10ms/step - loss: 0.9612 - accuracy: 0.7016 - val_loss: 1.1143 - val_accuracy: 0.6906\n",
            "\n",
            "Epoch 00044: val_loss did not improve from 1.06108\n",
            "Epoch 45/100\n",
            "28/28 [==============================] - 0s 10ms/step - loss: 0.8848 - accuracy: 0.7127 - val_loss: 1.0459 - val_accuracy: 0.7130\n",
            "\n",
            "Epoch 00045: val_loss improved from 1.06108 to 1.04590, saving model to model.h5\n",
            "Epoch 46/100\n",
            "28/28 [==============================] - 0s 10ms/step - loss: 0.8924 - accuracy: 0.7152 - val_loss: 1.0249 - val_accuracy: 0.6996\n",
            "\n",
            "Epoch 00046: val_loss improved from 1.04590 to 1.02494, saving model to model.h5\n",
            "Epoch 47/100\n",
            "28/28 [==============================] - 0s 10ms/step - loss: 0.7907 - accuracy: 0.7527 - val_loss: 1.0127 - val_accuracy: 0.7175\n",
            "\n",
            "Epoch 00047: val_loss improved from 1.02494 to 1.01275, saving model to model.h5\n",
            "Epoch 48/100\n",
            "28/28 [==============================] - 0s 10ms/step - loss: 0.8282 - accuracy: 0.7305 - val_loss: 1.0764 - val_accuracy: 0.7175\n",
            "\n",
            "Epoch 00048: val_loss did not improve from 1.01275\n",
            "Epoch 49/100\n",
            "28/28 [==============================] - 0s 10ms/step - loss: 0.7711 - accuracy: 0.7511 - val_loss: 1.1301 - val_accuracy: 0.6816\n",
            "\n",
            "Epoch 00049: val_loss did not improve from 1.01275\n",
            "Epoch 50/100\n",
            "28/28 [==============================] - 0s 10ms/step - loss: 0.8096 - accuracy: 0.7454 - val_loss: 1.1946 - val_accuracy: 0.7175\n",
            "\n",
            "Epoch 00050: val_loss did not improve from 1.01275\n",
            "Epoch 51/100\n",
            "28/28 [==============================] - 0s 10ms/step - loss: 0.7675 - accuracy: 0.7577 - val_loss: 1.0209 - val_accuracy: 0.7534\n",
            "\n",
            "Epoch 00051: val_loss did not improve from 1.01275\n",
            "Epoch 52/100\n",
            "28/28 [==============================] - 0s 10ms/step - loss: 0.7516 - accuracy: 0.7709 - val_loss: 1.2080 - val_accuracy: 0.6323\n",
            "\n",
            "Epoch 00052: val_loss did not improve from 1.01275\n",
            "Epoch 53/100\n",
            "28/28 [==============================] - 0s 10ms/step - loss: 0.9407 - accuracy: 0.6977 - val_loss: 1.0459 - val_accuracy: 0.7220\n",
            "\n",
            "Epoch 00053: val_loss did not improve from 1.01275\n",
            "Epoch 54/100\n",
            "28/28 [==============================] - 0s 10ms/step - loss: 0.8563 - accuracy: 0.7352 - val_loss: 0.9750 - val_accuracy: 0.7309\n",
            "\n",
            "Epoch 00054: val_loss improved from 1.01275 to 0.97500, saving model to model.h5\n",
            "Epoch 55/100\n",
            "28/28 [==============================] - 0s 10ms/step - loss: 0.7485 - accuracy: 0.7817 - val_loss: 1.0110 - val_accuracy: 0.7399\n",
            "\n",
            "Epoch 00055: val_loss did not improve from 0.97500\n",
            "Epoch 56/100\n",
            "28/28 [==============================] - 0s 10ms/step - loss: 0.6682 - accuracy: 0.7854 - val_loss: 1.0360 - val_accuracy: 0.7220\n",
            "\n",
            "Epoch 00056: val_loss did not improve from 0.97500\n",
            "Epoch 57/100\n",
            "28/28 [==============================] - 0s 10ms/step - loss: 0.7550 - accuracy: 0.7575 - val_loss: 1.0296 - val_accuracy: 0.7354\n",
            "\n",
            "Epoch 00057: val_loss did not improve from 0.97500\n",
            "Epoch 58/100\n",
            "28/28 [==============================] - 0s 10ms/step - loss: 0.6750 - accuracy: 0.7720 - val_loss: 1.1149 - val_accuracy: 0.6547\n",
            "\n",
            "Epoch 00058: val_loss did not improve from 0.97500\n",
            "Epoch 59/100\n",
            "28/28 [==============================] - 0s 10ms/step - loss: 0.8604 - accuracy: 0.7284 - val_loss: 1.2522 - val_accuracy: 0.7040\n",
            "\n",
            "Epoch 00059: val_loss did not improve from 0.97500\n",
            "Epoch 60/100\n",
            "28/28 [==============================] - 0s 11ms/step - loss: 0.7164 - accuracy: 0.7705 - val_loss: 0.9084 - val_accuracy: 0.7265\n",
            "\n",
            "Epoch 00060: val_loss improved from 0.97500 to 0.90836, saving model to model.h5\n",
            "Epoch 61/100\n",
            "28/28 [==============================] - 0s 10ms/step - loss: 0.6623 - accuracy: 0.7901 - val_loss: 0.9800 - val_accuracy: 0.7444\n",
            "\n",
            "Epoch 00061: val_loss did not improve from 0.90836\n",
            "Epoch 62/100\n",
            "28/28 [==============================] - 0s 10ms/step - loss: 0.6203 - accuracy: 0.7936 - val_loss: 1.1496 - val_accuracy: 0.7534\n",
            "\n",
            "Epoch 00062: val_loss did not improve from 0.90836\n",
            "Epoch 63/100\n",
            "28/28 [==============================] - 0s 10ms/step - loss: 0.5993 - accuracy: 0.8038 - val_loss: 1.1455 - val_accuracy: 0.7534\n",
            "\n",
            "Epoch 00063: val_loss did not improve from 0.90836\n",
            "Epoch 64/100\n",
            "28/28 [==============================] - 0s 9ms/step - loss: 0.5751 - accuracy: 0.8093 - val_loss: 1.2921 - val_accuracy: 0.7399\n",
            "\n",
            "Epoch 00064: val_loss did not improve from 0.90836\n",
            "Epoch 65/100\n",
            "28/28 [==============================] - 0s 10ms/step - loss: 0.6565 - accuracy: 0.8052 - val_loss: 1.0893 - val_accuracy: 0.7309\n",
            "\n",
            "Epoch 00065: val_loss did not improve from 0.90836\n",
            "Epoch 66/100\n",
            "28/28 [==============================] - 0s 10ms/step - loss: 0.6420 - accuracy: 0.7873 - val_loss: 1.0577 - val_accuracy: 0.7399\n",
            "\n",
            "Epoch 00066: val_loss did not improve from 0.90836\n",
            "Epoch 67/100\n",
            "28/28 [==============================] - 0s 10ms/step - loss: 0.5536 - accuracy: 0.8202 - val_loss: 1.1020 - val_accuracy: 0.7758\n",
            "\n",
            "Epoch 00067: val_loss did not improve from 0.90836\n",
            "Epoch 68/100\n",
            "28/28 [==============================] - 0s 10ms/step - loss: 0.5703 - accuracy: 0.7956 - val_loss: 1.0896 - val_accuracy: 0.7713\n",
            "\n",
            "Epoch 00068: val_loss did not improve from 0.90836\n",
            "Epoch 69/100\n",
            "28/28 [==============================] - 0s 10ms/step - loss: 0.5558 - accuracy: 0.8035 - val_loss: 1.1409 - val_accuracy: 0.7713\n",
            "\n",
            "Epoch 00069: val_loss did not improve from 0.90836\n",
            "Epoch 70/100\n",
            "28/28 [==============================] - 0s 10ms/step - loss: 0.5221 - accuracy: 0.8277 - val_loss: 0.9852 - val_accuracy: 0.7713\n",
            "\n",
            "Epoch 00070: val_loss did not improve from 0.90836\n",
            "Epoch 71/100\n",
            "28/28 [==============================] - 0s 10ms/step - loss: 0.5807 - accuracy: 0.7982 - val_loss: 1.1669 - val_accuracy: 0.7444\n",
            "\n",
            "Epoch 00071: val_loss did not improve from 0.90836\n",
            "Epoch 72/100\n",
            "28/28 [==============================] - 0s 10ms/step - loss: 0.4700 - accuracy: 0.8505 - val_loss: 1.0783 - val_accuracy: 0.7489\n",
            "\n",
            "Epoch 00072: val_loss did not improve from 0.90836\n",
            "Epoch 73/100\n",
            "28/28 [==============================] - 0s 10ms/step - loss: 0.5776 - accuracy: 0.8101 - val_loss: 1.0346 - val_accuracy: 0.7713\n",
            "\n",
            "Epoch 00073: val_loss did not improve from 0.90836\n",
            "Epoch 74/100\n",
            "28/28 [==============================] - 0s 10ms/step - loss: 0.5391 - accuracy: 0.8062 - val_loss: 1.1333 - val_accuracy: 0.7668\n",
            "\n",
            "Epoch 00074: val_loss did not improve from 0.90836\n",
            "Epoch 75/100\n",
            "28/28 [==============================] - 0s 10ms/step - loss: 0.5274 - accuracy: 0.8282 - val_loss: 0.8966 - val_accuracy: 0.7309\n",
            "\n",
            "Epoch 00075: val_loss improved from 0.90836 to 0.89664, saving model to model.h5\n",
            "Epoch 76/100\n",
            "28/28 [==============================] - 0s 10ms/step - loss: 0.7340 - accuracy: 0.7676 - val_loss: 1.4567 - val_accuracy: 0.6951\n",
            "\n",
            "Epoch 00076: val_loss did not improve from 0.89664\n",
            "Epoch 77/100\n",
            "28/28 [==============================] - 0s 10ms/step - loss: 0.9453 - accuracy: 0.7123 - val_loss: 1.0128 - val_accuracy: 0.7534\n",
            "\n",
            "Epoch 00077: val_loss did not improve from 0.89664\n",
            "Epoch 78/100\n",
            "28/28 [==============================] - 0s 10ms/step - loss: 0.5328 - accuracy: 0.8263 - val_loss: 0.9096 - val_accuracy: 0.7578\n",
            "\n",
            "Epoch 00078: val_loss did not improve from 0.89664\n",
            "Epoch 79/100\n",
            "28/28 [==============================] - 0s 10ms/step - loss: 0.5169 - accuracy: 0.8166 - val_loss: 0.9908 - val_accuracy: 0.7534\n",
            "\n",
            "Epoch 00079: val_loss did not improve from 0.89664\n",
            "Epoch 80/100\n",
            "28/28 [==============================] - 0s 10ms/step - loss: 0.4919 - accuracy: 0.8380 - val_loss: 1.2072 - val_accuracy: 0.7444\n",
            "\n",
            "Epoch 00080: val_loss did not improve from 0.89664\n",
            "Epoch 81/100\n",
            "28/28 [==============================] - 0s 10ms/step - loss: 0.4334 - accuracy: 0.8462 - val_loss: 1.1763 - val_accuracy: 0.7578\n",
            "\n",
            "Epoch 00081: val_loss did not improve from 0.89664\n",
            "Epoch 82/100\n",
            "28/28 [==============================] - 0s 10ms/step - loss: 0.5356 - accuracy: 0.8318 - val_loss: 0.9492 - val_accuracy: 0.7668\n",
            "\n",
            "Epoch 00082: val_loss did not improve from 0.89664\n",
            "Epoch 83/100\n",
            "28/28 [==============================] - 0s 10ms/step - loss: 0.6290 - accuracy: 0.8152 - val_loss: 1.0070 - val_accuracy: 0.7848\n",
            "\n",
            "Epoch 00083: val_loss did not improve from 0.89664\n",
            "Epoch 84/100\n",
            "28/28 [==============================] - 0s 10ms/step - loss: 0.4867 - accuracy: 0.8371 - val_loss: 1.1528 - val_accuracy: 0.7758\n",
            "\n",
            "Epoch 00084: val_loss did not improve from 0.89664\n",
            "Epoch 85/100\n",
            "28/28 [==============================] - 0s 10ms/step - loss: 0.4728 - accuracy: 0.8594 - val_loss: 1.1539 - val_accuracy: 0.7848\n",
            "\n",
            "Epoch 00085: val_loss did not improve from 0.89664\n",
            "Epoch 86/100\n",
            "28/28 [==============================] - 0s 10ms/step - loss: 0.4461 - accuracy: 0.8478 - val_loss: 1.1187 - val_accuracy: 0.7937\n",
            "\n",
            "Epoch 00086: val_loss did not improve from 0.89664\n",
            "Epoch 87/100\n",
            "28/28 [==============================] - 0s 10ms/step - loss: 0.3768 - accuracy: 0.8589 - val_loss: 1.1843 - val_accuracy: 0.7668\n",
            "\n",
            "Epoch 00087: val_loss did not improve from 0.89664\n",
            "Epoch 88/100\n",
            "28/28 [==============================] - 0s 9ms/step - loss: 0.4803 - accuracy: 0.8166 - val_loss: 1.2399 - val_accuracy: 0.7803\n",
            "\n",
            "Epoch 00088: val_loss did not improve from 0.89664\n",
            "Epoch 89/100\n",
            "28/28 [==============================] - 0s 9ms/step - loss: 0.4685 - accuracy: 0.8381 - val_loss: 1.0189 - val_accuracy: 0.8072\n",
            "\n",
            "Epoch 00089: val_loss did not improve from 0.89664\n",
            "Epoch 90/100\n",
            "28/28 [==============================] - 0s 10ms/step - loss: 0.4066 - accuracy: 0.8708 - val_loss: 1.1054 - val_accuracy: 0.7803\n",
            "\n",
            "Epoch 00090: val_loss did not improve from 0.89664\n",
            "Epoch 91/100\n",
            "28/28 [==============================] - 0s 10ms/step - loss: 0.4118 - accuracy: 0.8433 - val_loss: 1.0463 - val_accuracy: 0.7937\n",
            "\n",
            "Epoch 00091: val_loss did not improve from 0.89664\n",
            "Epoch 92/100\n",
            "28/28 [==============================] - 0s 10ms/step - loss: 0.4177 - accuracy: 0.8604 - val_loss: 1.1133 - val_accuracy: 0.7892\n",
            "\n",
            "Epoch 00092: val_loss did not improve from 0.89664\n",
            "Epoch 93/100\n",
            "28/28 [==============================] - 0s 10ms/step - loss: 0.3443 - accuracy: 0.8895 - val_loss: 1.2500 - val_accuracy: 0.7892\n",
            "\n",
            "Epoch 00093: val_loss did not improve from 0.89664\n",
            "Epoch 94/100\n",
            "28/28 [==============================] - 0s 10ms/step - loss: 0.3603 - accuracy: 0.8744 - val_loss: 1.2153 - val_accuracy: 0.7892\n",
            "\n",
            "Epoch 00094: val_loss did not improve from 0.89664\n",
            "Epoch 95/100\n",
            "28/28 [==============================] - 0s 9ms/step - loss: 0.4354 - accuracy: 0.8604 - val_loss: 1.1783 - val_accuracy: 0.7937\n",
            "\n",
            "Epoch 00095: val_loss did not improve from 0.89664\n",
            "Epoch 96/100\n",
            "28/28 [==============================] - 0s 10ms/step - loss: 0.3611 - accuracy: 0.8818 - val_loss: 1.2000 - val_accuracy: 0.7803\n",
            "\n",
            "Epoch 00096: val_loss did not improve from 0.89664\n",
            "Epoch 97/100\n",
            "28/28 [==============================] - 0s 10ms/step - loss: 0.3775 - accuracy: 0.8701 - val_loss: 1.1609 - val_accuracy: 0.8072\n",
            "\n",
            "Epoch 00097: val_loss did not improve from 0.89664\n",
            "Epoch 98/100\n",
            "28/28 [==============================] - 0s 10ms/step - loss: 0.3627 - accuracy: 0.8664 - val_loss: 1.0203 - val_accuracy: 0.8072\n",
            "\n",
            "Epoch 00098: val_loss did not improve from 0.89664\n",
            "Epoch 99/100\n",
            "28/28 [==============================] - 0s 10ms/step - loss: 0.3989 - accuracy: 0.8538 - val_loss: 1.0773 - val_accuracy: 0.8027\n",
            "\n",
            "Epoch 00099: val_loss did not improve from 0.89664\n",
            "Epoch 100/100\n",
            "28/28 [==============================] - 0s 10ms/step - loss: 0.3815 - accuracy: 0.8710 - val_loss: 1.2219 - val_accuracy: 0.7758\n",
            "\n",
            "Epoch 00100: val_loss did not improve from 0.89664\n"
          ],
          "name": "stdout"
        }
      ]
    },
    {
      "cell_type": "code",
      "metadata": {
        "id": "34_8qirOUg1p",
        "colab": {
          "base_uri": "https://localhost:8080/"
        },
        "outputId": "65730f09-a872-47be-bb91-f6bef706c8d5"
      },
      "source": [
        "train_acc = model.evaluate(train_X, train_Y, verbose=1)\r\n",
        "val_acc = model.evaluate(val_X, val_Y, verbose=1)"
      ],
      "execution_count": 25,
      "outputs": [
        {
          "output_type": "stream",
          "text": [
            "28/28 [==============================] - 0s 5ms/step - loss: 0.2376 - accuracy: 0.9270\n",
            "7/7 [==============================] - 0s 4ms/step - loss: 1.2219 - accuracy: 0.7758\n"
          ],
          "name": "stdout"
        }
      ]
    },
    {
      "cell_type": "code",
      "metadata": {
        "id": "XFr99wV8VoVy"
      },
      "source": [
        "model = load_model(\"model.h5\")\r\n",
        "def predictions(text):\r\n",
        "  clean = re.sub(r'[^ a-z A-Z 0-9]', \" \", text)\r\n",
        "  test_word = word_tokenize(clean)\r\n",
        "  test_word = [w.lower() for w in test_word]\r\n",
        "  test_ls = word_tokenizer.texts_to_sequences(test_word)\r\n",
        "  print(test_word)\r\n",
        "  \r\n",
        "\r\n",
        "  if [] in test_ls:\r\n",
        "    test_ls = list(filter(None, test_ls))\r\n",
        "    \r\n",
        "  test_ls = np.array(test_ls).reshape(1, len(test_ls))\r\n",
        " \r\n",
        "  x = padding_doc(test_ls, max_length)\r\n",
        "  \r\n",
        "  pred = model.predict(x)\r\n",
        "  \r\n",
        "  return pred"
      ],
      "execution_count": 26,
      "outputs": []
    },
    {
      "cell_type": "code",
      "metadata": {
        "id": "AmtRzFnRVqbR"
      },
      "source": [
        "def get_final_output(pred, classes):\r\n",
        "  predictions = pred[0]\r\n",
        "  \r\n",
        "  classes = np.array(classes)\r\n",
        "  ids = np.argsort(-predictions)\r\n",
        "  classes = classes[ids]\r\n",
        "  predictions = -np.sort(-predictions)\r\n",
        "  outputPred = predictions[1]\r\n",
        "  for i in range(pred.shape[1]):\r\n",
        "    if(outputPred <= predictions[i]):\r\n",
        "      outputPred = predictions[i]\r\n",
        "  outputClass = classes[np.where(predictions == outputPred)[0][0]]\r\n",
        "  print(\"Class: \",outputClass)"
      ],
      "execution_count": 27,
      "outputs": []
    },
    {
      "cell_type": "code",
      "metadata": {
        "id": "T46K6tPBVuaP",
        "colab": {
          "base_uri": "https://localhost:8080/"
        },
        "outputId": "509a3bae-5c84-47ae-e612-199bdf956e0e"
      },
      "source": [
        "text = input(\"Enter Sentence: \")\r\n",
        "pred = predictions(text)\r\n",
        "get_final_output(pred, unique_intent)"
      ],
      "execution_count": 28,
      "outputs": [
        {
          "output_type": "stream",
          "text": [
            "Enter Sentence: I need help.\n",
            "['i', 'need', 'help']\n",
            "Class:  assist\n"
          ],
          "name": "stdout"
        }
      ]
    }
  ]
}