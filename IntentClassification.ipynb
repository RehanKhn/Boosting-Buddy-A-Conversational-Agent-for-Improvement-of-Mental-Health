{
  "nbformat": 4,
  "nbformat_minor": 0,
  "metadata": {
    "colab": {
      "name": "IntentClassification.ipynb",
      "provenance": [],
      "collapsed_sections": [],
      "authorship_tag": "ABX9TyPNoYD9HiAyLnLpCI/xKnFr",
      "include_colab_link": true
    },
    "kernelspec": {
      "name": "python3",
      "display_name": "Python 3"
    },
    "accelerator": "GPU"
  },
  "cells": [
    {
      "cell_type": "markdown",
      "metadata": {
        "id": "view-in-github",
        "colab_type": "text"
      },
      "source": [
        "<a href=\"https://colab.research.google.com/github/RehanKhn/Boosting-Buddy-A-Conversational-Agent-for-Improvement-of-Mental-Health/blob/main/IntentClassification.ipynb\" target=\"_parent\"><img src=\"https://colab.research.google.com/assets/colab-badge.svg\" alt=\"Open In Colab\"/></a>"
      ]
    },
    {
      "cell_type": "code",
      "metadata": {
        "id": "yEGPeAHLTSdC",
        "colab": {
          "base_uri": "https://localhost:8080/"
        },
        "outputId": "26a7d442-a9db-4cde-ea86-0aa776c49e2d"
      },
      "source": [
        "from pydrive.auth import GoogleAuth\r\n",
        "from pydrive.drive import GoogleDrive\r\n",
        "from google.colab import auth\r\n",
        "from oauth2client.client import GoogleCredentials\r\n",
        "\r\n",
        "import numpy as np\r\n",
        "import pandas as pd\r\n",
        "import matplotlib.pyplot as plt\r\n",
        "import nltk\r\n",
        "from nltk.corpus import stopwords\r\n",
        "from nltk.tokenize import word_tokenize\r\n",
        "from nltk.stem.lancaster import LancasterStemmer\r\n",
        "nltk.download(\"stopwords\")\r\n",
        "nltk.download(\"punkt\")\r\n",
        "import re\r\n",
        "from sklearn.model_selection import train_test_split\r\n",
        "from sklearn.preprocessing import OneHotEncoder\r\n",
        "from sklearn.metrics import confusion_matrix\r\n",
        "from keras.preprocessing.text import Tokenizer\r\n",
        "from keras.preprocessing.sequence import pad_sequences\r\n",
        "from keras.utils import to_categorical\r\n",
        "from keras.models import Sequential, load_model\r\n",
        "from keras.layers import Dense, LSTM, Bidirectional, Embedding, Dropout\r\n",
        "from keras.callbacks import ModelCheckpoint"
      ],
      "execution_count": null,
      "outputs": [
        {
          "output_type": "stream",
          "text": [
            "[nltk_data] Downloading package stopwords to /root/nltk_data...\n",
            "[nltk_data]   Unzipping corpora/stopwords.zip.\n",
            "[nltk_data] Downloading package punkt to /root/nltk_data...\n",
            "[nltk_data]   Unzipping tokenizers/punkt.zip.\n"
          ],
          "name": "stdout"
        }
      ]
    },
    {
      "cell_type": "code",
      "metadata": {
        "id": "Q7JttD2aTTTM"
      },
      "source": [
        "auth.authenticate_user()\r\n",
        "gauth = GoogleAuth()\r\n",
        "gauth.credentials = GoogleCredentials.get_application_default()\r\n",
        "drive = GoogleDrive(gauth)"
      ],
      "execution_count": null,
      "outputs": []
    },
    {
      "cell_type": "code",
      "metadata": {
        "id": "PlzLEkVjTW88"
      },
      "source": [
        "downloaded = drive.CreateFile({'id':'1zimqy02if1n1DwDTPGMkzZyHsJsYIeqI'}) \r\n",
        "downloaded.GetContentFile('Dataset.csv')"
      ],
      "execution_count": null,
      "outputs": []
    },
    {
      "cell_type": "code",
      "metadata": {
        "id": "Q74c5WXuTfV5"
      },
      "source": [
        "def load_dataset(filename):\r\n",
        "  df = pd.read_csv(filename, encoding = \"latin1\", names = [\"Sentence\", \"Intent\"])\r\n",
        "  intent = df[\"Intent\"]\r\n",
        "  unique_intent = list(set(intent))\r\n",
        "  sentences = list(df[\"Sentence\"])  \r\n",
        "  return (intent, unique_intent, sentences)"
      ],
      "execution_count": null,
      "outputs": []
    },
    {
      "cell_type": "code",
      "metadata": {
        "id": "6Z7a5GD6ThiI"
      },
      "source": [
        "intent, unique_intent, sentences = load_dataset(\"Dataset.csv\")"
      ],
      "execution_count": null,
      "outputs": []
    },
    {
      "cell_type": "code",
      "metadata": {
        "id": "5b8kMVbdTqtb"
      },
      "source": [
        "stemmer = LancasterStemmer()"
      ],
      "execution_count": null,
      "outputs": []
    },
    {
      "cell_type": "code",
      "metadata": {
        "id": "QHGXTg0DTtAL"
      },
      "source": [
        "def cleaning(sentences):\r\n",
        "  words = []\r\n",
        "  for s in sentences:\r\n",
        "    clean = re.sub(r'[^ a-z A-Z 0-9]', \" \", s)\r\n",
        "    w = word_tokenize(clean)\r\n",
        "    #stemming\r\n",
        "    words.append([i.lower() for i in w])\r\n",
        "    \r\n",
        "  return words  "
      ],
      "execution_count": null,
      "outputs": []
    },
    {
      "cell_type": "code",
      "metadata": {
        "id": "ojkiInLyTz28"
      },
      "source": [
        "cleaned_words = cleaning(sentences)"
      ],
      "execution_count": null,
      "outputs": []
    },
    {
      "cell_type": "code",
      "metadata": {
        "id": "12Pmc18_T2OX"
      },
      "source": [
        "def create_tokenizer(words, filters = '!\"#$%&()*+,-./:;<=>?@[\\]^_`{|}~'):\r\n",
        "  token = Tokenizer(filters = filters)\r\n",
        "  token.fit_on_texts(words)\r\n",
        "  return token"
      ],
      "execution_count": null,
      "outputs": []
    },
    {
      "cell_type": "code",
      "metadata": {
        "id": "AaS45XNYT4JL"
      },
      "source": [
        "def max_length(words):\r\n",
        "  return(len(max(words, key = len)))"
      ],
      "execution_count": null,
      "outputs": []
    },
    {
      "cell_type": "code",
      "metadata": {
        "id": "BNFwQoq_T5z4"
      },
      "source": [
        "word_tokenizer = create_tokenizer(cleaned_words)\r\n",
        "vocab_size = len(word_tokenizer.word_index) + 1\r\n",
        "max_length = max_length(cleaned_words)"
      ],
      "execution_count": null,
      "outputs": []
    },
    {
      "cell_type": "code",
      "metadata": {
        "id": "UsbeDdLnT7nA"
      },
      "source": [
        "def encoding_doc(token, words):\r\n",
        "  return(token.texts_to_sequences(words))"
      ],
      "execution_count": null,
      "outputs": []
    },
    {
      "cell_type": "code",
      "metadata": {
        "id": "iF8mnlItT9oL"
      },
      "source": [
        "encoded_doc = encoding_doc(word_tokenizer, cleaned_words)"
      ],
      "execution_count": null,
      "outputs": []
    },
    {
      "cell_type": "code",
      "metadata": {
        "id": "FCOzoqZfT_-A"
      },
      "source": [
        "def padding_doc(encoded_doc, max_length):\r\n",
        "  return(pad_sequences(encoded_doc, maxlen = max_length, padding = \"post\"))"
      ],
      "execution_count": null,
      "outputs": []
    },
    {
      "cell_type": "code",
      "metadata": {
        "id": "dFi-qiZ-UBLW"
      },
      "source": [
        "padded_doc = padding_doc(encoded_doc, max_length)"
      ],
      "execution_count": null,
      "outputs": []
    },
    {
      "cell_type": "code",
      "metadata": {
        "id": "ltExJjmnUFWe"
      },
      "source": [
        "output_tokenizer = create_tokenizer(unique_intent, filters = '!\"#$%&()*+,-/:;<=>?@[\\]^`{|}~')"
      ],
      "execution_count": null,
      "outputs": []
    },
    {
      "cell_type": "code",
      "metadata": {
        "id": "7Os9NfE4UHt_"
      },
      "source": [
        "encoded_output = encoding_doc(output_tokenizer, intent)"
      ],
      "execution_count": null,
      "outputs": []
    },
    {
      "cell_type": "code",
      "metadata": {
        "id": "epG-0uFwULG1"
      },
      "source": [
        "encoded_output = np.array(encoded_output).reshape(len(encoded_output), 1)"
      ],
      "execution_count": null,
      "outputs": []
    },
    {
      "cell_type": "code",
      "metadata": {
        "id": "mBUrbHV4UNHT"
      },
      "source": [
        "def one_hot(encode):\r\n",
        "  o = OneHotEncoder(sparse = False)\r\n",
        "  return(o.fit_transform(encode))"
      ],
      "execution_count": null,
      "outputs": []
    },
    {
      "cell_type": "code",
      "metadata": {
        "id": "qQb0VralUOn5"
      },
      "source": [
        "output_one_hot = one_hot(encoded_output)"
      ],
      "execution_count": null,
      "outputs": []
    },
    {
      "cell_type": "code",
      "metadata": {
        "id": "S8L06NhiUS4W"
      },
      "source": [
        "train_X, val_X, train_Y, val_Y = train_test_split(padded_doc, output_one_hot, shuffle = True, test_size = 0.2)"
      ],
      "execution_count": null,
      "outputs": []
    },
    {
      "cell_type": "code",
      "metadata": {
        "id": "W8vYwaUwUVjU"
      },
      "source": [
        "def create_model(vocab_size, max_length):\r\n",
        "  model = Sequential()\r\n",
        "  model.add(Embedding(vocab_size, 128, input_length = max_length, trainable = False))\r\n",
        "  model.add(Bidirectional(LSTM(128)))\r\n",
        "  model.add(Dense(32, activation = \"relu\"))\r\n",
        "  model.add(Dropout(0.5))\r\n",
        "  model.add(Dense(21, activation = \"softmax\"))\r\n",
        "  \r\n",
        "  return model"
      ],
      "execution_count": null,
      "outputs": []
    },
    {
      "cell_type": "code",
      "metadata": {
        "id": "qW6JsKxGUXd5"
      },
      "source": [
        "model = create_model(vocab_size, max_length)\r\n",
        "\r\n",
        "model.compile(loss = \"categorical_crossentropy\", optimizer = \"adam\", metrics = [\"accuracy\"])"
      ],
      "execution_count": null,
      "outputs": []
    },
    {
      "cell_type": "code",
      "metadata": {
        "id": "sgGwf_lbUdw8",
        "colab": {
          "base_uri": "https://localhost:8080/"
        },
        "outputId": "13599738-f800-40ce-b4b7-059e1db0d8f6"
      },
      "source": [
        "filename = 'model.h5'\r\n",
        "checkpoint = ModelCheckpoint(filename, monitor='val_loss', verbose=1, save_best_only=True, mode='min')\r\n",
        "\r\n",
        "hist = model.fit(train_X, train_Y, epochs = 100, batch_size = 32, validation_data = (val_X, val_Y), callbacks = [checkpoint]\r\n",
        ")"
      ],
      "execution_count": null,
      "outputs": [
        {
          "output_type": "stream",
          "text": [
            "Epoch 1/100\n",
            "28/28 [==============================] - 35s 40ms/step - loss: 2.9916 - accuracy: 0.0955 - val_loss: 2.8503 - val_accuracy: 0.1256\n",
            "\n",
            "Epoch 00001: val_loss improved from inf to 2.85028, saving model to model.h5\n",
            "Epoch 2/100\n",
            "28/28 [==============================] - 0s 10ms/step - loss: 2.8747 - accuracy: 0.1063 - val_loss: 2.7560 - val_accuracy: 0.1300\n",
            "\n",
            "Epoch 00002: val_loss improved from 2.85028 to 2.75603, saving model to model.h5\n",
            "Epoch 3/100\n",
            "28/28 [==============================] - 0s 9ms/step - loss: 2.8162 - accuracy: 0.1304 - val_loss: 2.6939 - val_accuracy: 0.2511\n",
            "\n",
            "Epoch 00003: val_loss improved from 2.75603 to 2.69385, saving model to model.h5\n",
            "Epoch 4/100\n",
            "28/28 [==============================] - 0s 9ms/step - loss: 2.8341 - accuracy: 0.1103 - val_loss: 2.5728 - val_accuracy: 0.2108\n",
            "\n",
            "Epoch 00004: val_loss improved from 2.69385 to 2.57277, saving model to model.h5\n",
            "Epoch 5/100\n",
            "28/28 [==============================] - 0s 10ms/step - loss: 2.6927 - accuracy: 0.1627 - val_loss: 2.4683 - val_accuracy: 0.3004\n",
            "\n",
            "Epoch 00005: val_loss improved from 2.57277 to 2.46831, saving model to model.h5\n",
            "Epoch 6/100\n",
            "28/28 [==============================] - 0s 10ms/step - loss: 2.5368 - accuracy: 0.2338 - val_loss: 2.4037 - val_accuracy: 0.3094\n",
            "\n",
            "Epoch 00006: val_loss improved from 2.46831 to 2.40370, saving model to model.h5\n",
            "Epoch 7/100\n",
            "28/28 [==============================] - 0s 9ms/step - loss: 2.4006 - accuracy: 0.2495 - val_loss: 2.2987 - val_accuracy: 0.3453\n",
            "\n",
            "Epoch 00007: val_loss improved from 2.40370 to 2.29871, saving model to model.h5\n",
            "Epoch 8/100\n",
            "28/28 [==============================] - 0s 10ms/step - loss: 2.2810 - accuracy: 0.2873 - val_loss: 2.1037 - val_accuracy: 0.3722\n",
            "\n",
            "Epoch 00008: val_loss improved from 2.29871 to 2.10369, saving model to model.h5\n",
            "Epoch 9/100\n",
            "28/28 [==============================] - 0s 11ms/step - loss: 2.1291 - accuracy: 0.3352 - val_loss: 2.0384 - val_accuracy: 0.4126\n",
            "\n",
            "Epoch 00009: val_loss improved from 2.10369 to 2.03839, saving model to model.h5\n",
            "Epoch 10/100\n",
            "28/28 [==============================] - 0s 10ms/step - loss: 2.0649 - accuracy: 0.3334 - val_loss: 1.8988 - val_accuracy: 0.4843\n",
            "\n",
            "Epoch 00010: val_loss improved from 2.03839 to 1.89878, saving model to model.h5\n",
            "Epoch 11/100\n",
            "28/28 [==============================] - 0s 10ms/step - loss: 1.9938 - accuracy: 0.3686 - val_loss: 1.8010 - val_accuracy: 0.5336\n",
            "\n",
            "Epoch 00011: val_loss improved from 1.89878 to 1.80098, saving model to model.h5\n",
            "Epoch 12/100\n",
            "28/28 [==============================] - 0s 11ms/step - loss: 1.8561 - accuracy: 0.3864 - val_loss: 1.7567 - val_accuracy: 0.5202\n",
            "\n",
            "Epoch 00012: val_loss improved from 1.80098 to 1.75673, saving model to model.h5\n",
            "Epoch 13/100\n",
            "28/28 [==============================] - 0s 9ms/step - loss: 1.8187 - accuracy: 0.4321 - val_loss: 1.5990 - val_accuracy: 0.5605\n",
            "\n",
            "Epoch 00013: val_loss improved from 1.75673 to 1.59899, saving model to model.h5\n",
            "Epoch 14/100\n",
            "28/28 [==============================] - 0s 10ms/step - loss: 1.6246 - accuracy: 0.4558 - val_loss: 1.5609 - val_accuracy: 0.5695\n",
            "\n",
            "Epoch 00014: val_loss improved from 1.59899 to 1.56095, saving model to model.h5\n",
            "Epoch 15/100\n",
            "28/28 [==============================] - 0s 11ms/step - loss: 1.6657 - accuracy: 0.4779 - val_loss: 1.5532 - val_accuracy: 0.6009\n",
            "\n",
            "Epoch 00015: val_loss improved from 1.56095 to 1.55320, saving model to model.h5\n",
            "Epoch 16/100\n",
            "28/28 [==============================] - 0s 11ms/step - loss: 1.5536 - accuracy: 0.4996 - val_loss: 1.4478 - val_accuracy: 0.6054\n",
            "\n",
            "Epoch 00016: val_loss improved from 1.55320 to 1.44785, saving model to model.h5\n",
            "Epoch 17/100\n",
            "28/28 [==============================] - 0s 10ms/step - loss: 1.4772 - accuracy: 0.5447 - val_loss: 1.4485 - val_accuracy: 0.5919\n",
            "\n",
            "Epoch 00017: val_loss did not improve from 1.44785\n",
            "Epoch 18/100\n",
            "28/28 [==============================] - 0s 9ms/step - loss: 1.4696 - accuracy: 0.5548 - val_loss: 1.4714 - val_accuracy: 0.5919\n",
            "\n",
            "Epoch 00018: val_loss did not improve from 1.44785\n",
            "Epoch 19/100\n",
            "28/28 [==============================] - 0s 9ms/step - loss: 1.5875 - accuracy: 0.5001 - val_loss: 1.3594 - val_accuracy: 0.6457\n",
            "\n",
            "Epoch 00019: val_loss improved from 1.44785 to 1.35936, saving model to model.h5\n",
            "Epoch 20/100\n",
            "28/28 [==============================] - 0s 10ms/step - loss: 1.3750 - accuracy: 0.5771 - val_loss: 1.4064 - val_accuracy: 0.6054\n",
            "\n",
            "Epoch 00020: val_loss did not improve from 1.35936\n",
            "Epoch 21/100\n",
            "28/28 [==============================] - 0s 11ms/step - loss: 1.3302 - accuracy: 0.5907 - val_loss: 1.2695 - val_accuracy: 0.6547\n",
            "\n",
            "Epoch 00021: val_loss improved from 1.35936 to 1.26950, saving model to model.h5\n",
            "Epoch 22/100\n",
            "28/28 [==============================] - 0s 11ms/step - loss: 1.3023 - accuracy: 0.6024 - val_loss: 1.2373 - val_accuracy: 0.6457\n",
            "\n",
            "Epoch 00022: val_loss improved from 1.26950 to 1.23731, saving model to model.h5\n",
            "Epoch 23/100\n",
            "28/28 [==============================] - 0s 10ms/step - loss: 1.2475 - accuracy: 0.6224 - val_loss: 1.2098 - val_accuracy: 0.6547\n",
            "\n",
            "Epoch 00023: val_loss improved from 1.23731 to 1.20983, saving model to model.h5\n",
            "Epoch 24/100\n",
            "28/28 [==============================] - 0s 9ms/step - loss: 1.1446 - accuracy: 0.6779 - val_loss: 1.3525 - val_accuracy: 0.6368\n",
            "\n",
            "Epoch 00024: val_loss did not improve from 1.20983\n",
            "Epoch 25/100\n",
            "28/28 [==============================] - 0s 9ms/step - loss: 1.2237 - accuracy: 0.6502 - val_loss: 1.1948 - val_accuracy: 0.6547\n",
            "\n",
            "Epoch 00025: val_loss improved from 1.20983 to 1.19477, saving model to model.h5\n",
            "Epoch 26/100\n",
            "28/28 [==============================] - 0s 10ms/step - loss: 1.2451 - accuracy: 0.6341 - val_loss: 1.1959 - val_accuracy: 0.6906\n",
            "\n",
            "Epoch 00026: val_loss did not improve from 1.19477\n",
            "Epoch 27/100\n",
            "28/28 [==============================] - 0s 9ms/step - loss: 1.1298 - accuracy: 0.6826 - val_loss: 1.1702 - val_accuracy: 0.6726\n",
            "\n",
            "Epoch 00027: val_loss improved from 1.19477 to 1.17024, saving model to model.h5\n",
            "Epoch 28/100\n",
            "28/28 [==============================] - 0s 9ms/step - loss: 1.0320 - accuracy: 0.6809 - val_loss: 1.1998 - val_accuracy: 0.6502\n",
            "\n",
            "Epoch 00028: val_loss did not improve from 1.17024\n",
            "Epoch 29/100\n",
            "28/28 [==============================] - 0s 10ms/step - loss: 1.1390 - accuracy: 0.6536 - val_loss: 1.1053 - val_accuracy: 0.7040\n",
            "\n",
            "Epoch 00029: val_loss improved from 1.17024 to 1.10534, saving model to model.h5\n",
            "Epoch 30/100\n",
            "28/28 [==============================] - 0s 10ms/step - loss: 1.0816 - accuracy: 0.6822 - val_loss: 1.0742 - val_accuracy: 0.7175\n",
            "\n",
            "Epoch 00030: val_loss improved from 1.10534 to 1.07420, saving model to model.h5\n",
            "Epoch 31/100\n",
            "28/28 [==============================] - 0s 9ms/step - loss: 1.0370 - accuracy: 0.6865 - val_loss: 1.0659 - val_accuracy: 0.6996\n",
            "\n",
            "Epoch 00031: val_loss improved from 1.07420 to 1.06590, saving model to model.h5\n",
            "Epoch 32/100\n",
            "28/28 [==============================] - 0s 9ms/step - loss: 0.8831 - accuracy: 0.7449 - val_loss: 1.0843 - val_accuracy: 0.7175\n",
            "\n",
            "Epoch 00032: val_loss did not improve from 1.06590\n",
            "Epoch 33/100\n",
            "28/28 [==============================] - 0s 9ms/step - loss: 0.9261 - accuracy: 0.7291 - val_loss: 1.1216 - val_accuracy: 0.6996\n",
            "\n",
            "Epoch 00033: val_loss did not improve from 1.06590\n",
            "Epoch 34/100\n",
            "28/28 [==============================] - 0s 11ms/step - loss: 0.9390 - accuracy: 0.7124 - val_loss: 1.0626 - val_accuracy: 0.6951\n",
            "\n",
            "Epoch 00034: val_loss improved from 1.06590 to 1.06258, saving model to model.h5\n",
            "Epoch 35/100\n",
            "28/28 [==============================] - 0s 11ms/step - loss: 0.8535 - accuracy: 0.7306 - val_loss: 1.0636 - val_accuracy: 0.7220\n",
            "\n",
            "Epoch 00035: val_loss did not improve from 1.06258\n",
            "Epoch 36/100\n",
            "28/28 [==============================] - 0s 10ms/step - loss: 0.8731 - accuracy: 0.7510 - val_loss: 1.0882 - val_accuracy: 0.7085\n",
            "\n",
            "Epoch 00036: val_loss did not improve from 1.06258\n",
            "Epoch 37/100\n",
            "28/28 [==============================] - 0s 9ms/step - loss: 0.9624 - accuracy: 0.7135 - val_loss: 1.1950 - val_accuracy: 0.6906\n",
            "\n",
            "Epoch 00037: val_loss did not improve from 1.06258\n",
            "Epoch 38/100\n",
            "28/28 [==============================] - 0s 9ms/step - loss: 0.8630 - accuracy: 0.7535 - val_loss: 1.0575 - val_accuracy: 0.6816\n",
            "\n",
            "Epoch 00038: val_loss improved from 1.06258 to 1.05751, saving model to model.h5\n",
            "Epoch 39/100\n",
            "28/28 [==============================] - 0s 10ms/step - loss: 0.8995 - accuracy: 0.7092 - val_loss: 1.0165 - val_accuracy: 0.7265\n",
            "\n",
            "Epoch 00039: val_loss improved from 1.05751 to 1.01650, saving model to model.h5\n",
            "Epoch 40/100\n",
            "28/28 [==============================] - 0s 10ms/step - loss: 0.8320 - accuracy: 0.7513 - val_loss: 1.0012 - val_accuracy: 0.7399\n",
            "\n",
            "Epoch 00040: val_loss improved from 1.01650 to 1.00115, saving model to model.h5\n",
            "Epoch 41/100\n",
            "28/28 [==============================] - 0s 11ms/step - loss: 0.8437 - accuracy: 0.7383 - val_loss: 1.1137 - val_accuracy: 0.7130\n",
            "\n",
            "Epoch 00041: val_loss did not improve from 1.00115\n",
            "Epoch 42/100\n",
            "28/28 [==============================] - 0s 11ms/step - loss: 0.8112 - accuracy: 0.7523 - val_loss: 1.0381 - val_accuracy: 0.7130\n",
            "\n",
            "Epoch 00042: val_loss did not improve from 1.00115\n",
            "Epoch 43/100\n",
            "28/28 [==============================] - 0s 10ms/step - loss: 0.7502 - accuracy: 0.7596 - val_loss: 1.0254 - val_accuracy: 0.7220\n",
            "\n",
            "Epoch 00043: val_loss did not improve from 1.00115\n",
            "Epoch 44/100\n",
            "28/28 [==============================] - 0s 11ms/step - loss: 0.7758 - accuracy: 0.7396 - val_loss: 0.9705 - val_accuracy: 0.7489\n",
            "\n",
            "Epoch 00044: val_loss improved from 1.00115 to 0.97045, saving model to model.h5\n",
            "Epoch 45/100\n",
            "28/28 [==============================] - 0s 11ms/step - loss: 0.8084 - accuracy: 0.7477 - val_loss: 0.9735 - val_accuracy: 0.7265\n",
            "\n",
            "Epoch 00045: val_loss did not improve from 0.97045\n",
            "Epoch 46/100\n",
            "28/28 [==============================] - 0s 11ms/step - loss: 0.6656 - accuracy: 0.7916 - val_loss: 1.0087 - val_accuracy: 0.7354\n",
            "\n",
            "Epoch 00046: val_loss did not improve from 0.97045\n",
            "Epoch 47/100\n",
            "28/28 [==============================] - 0s 10ms/step - loss: 0.6659 - accuracy: 0.7891 - val_loss: 1.0410 - val_accuracy: 0.7220\n",
            "\n",
            "Epoch 00047: val_loss did not improve from 0.97045\n",
            "Epoch 48/100\n",
            "28/28 [==============================] - 0s 10ms/step - loss: 0.6831 - accuracy: 0.7659 - val_loss: 0.9876 - val_accuracy: 0.7444\n",
            "\n",
            "Epoch 00048: val_loss did not improve from 0.97045\n",
            "Epoch 49/100\n",
            "28/28 [==============================] - 0s 9ms/step - loss: 0.7157 - accuracy: 0.7828 - val_loss: 1.0953 - val_accuracy: 0.7085\n",
            "\n",
            "Epoch 00049: val_loss did not improve from 0.97045\n",
            "Epoch 50/100\n",
            "28/28 [==============================] - 0s 9ms/step - loss: 0.7242 - accuracy: 0.7639 - val_loss: 0.9832 - val_accuracy: 0.7489\n",
            "\n",
            "Epoch 00050: val_loss did not improve from 0.97045\n",
            "Epoch 51/100\n",
            "28/28 [==============================] - 0s 9ms/step - loss: 0.6347 - accuracy: 0.8098 - val_loss: 0.9616 - val_accuracy: 0.7534\n",
            "\n",
            "Epoch 00051: val_loss improved from 0.97045 to 0.96162, saving model to model.h5\n",
            "Epoch 52/100\n",
            "28/28 [==============================] - 0s 10ms/step - loss: 0.6614 - accuracy: 0.7897 - val_loss: 1.1853 - val_accuracy: 0.7175\n",
            "\n",
            "Epoch 00052: val_loss did not improve from 0.96162\n",
            "Epoch 53/100\n",
            "28/28 [==============================] - 0s 11ms/step - loss: 0.6903 - accuracy: 0.7715 - val_loss: 1.2275 - val_accuracy: 0.6726\n",
            "\n",
            "Epoch 00053: val_loss did not improve from 0.96162\n",
            "Epoch 54/100\n",
            "28/28 [==============================] - 0s 9ms/step - loss: 0.9710 - accuracy: 0.7358 - val_loss: 1.0918 - val_accuracy: 0.6547\n",
            "\n",
            "Epoch 00054: val_loss did not improve from 0.96162\n",
            "Epoch 55/100\n",
            "28/28 [==============================] - 0s 9ms/step - loss: 0.7376 - accuracy: 0.7717 - val_loss: 0.8861 - val_accuracy: 0.7399\n",
            "\n",
            "Epoch 00055: val_loss improved from 0.96162 to 0.88606, saving model to model.h5\n",
            "Epoch 56/100\n",
            "28/28 [==============================] - 0s 10ms/step - loss: 0.6837 - accuracy: 0.7876 - val_loss: 0.9055 - val_accuracy: 0.7489\n",
            "\n",
            "Epoch 00056: val_loss did not improve from 0.88606\n",
            "Epoch 57/100\n",
            "28/28 [==============================] - 0s 9ms/step - loss: 0.6045 - accuracy: 0.8185 - val_loss: 0.9901 - val_accuracy: 0.7354\n",
            "\n",
            "Epoch 00057: val_loss did not improve from 0.88606\n",
            "Epoch 58/100\n",
            "28/28 [==============================] - 0s 9ms/step - loss: 0.6101 - accuracy: 0.7952 - val_loss: 0.8777 - val_accuracy: 0.7623\n",
            "\n",
            "Epoch 00058: val_loss improved from 0.88606 to 0.87773, saving model to model.h5\n",
            "Epoch 59/100\n",
            "28/28 [==============================] - 0s 9ms/step - loss: 0.5824 - accuracy: 0.8104 - val_loss: 0.9070 - val_accuracy: 0.7623\n",
            "\n",
            "Epoch 00059: val_loss did not improve from 0.87773\n",
            "Epoch 60/100\n",
            "28/28 [==============================] - 0s 9ms/step - loss: 0.5952 - accuracy: 0.8031 - val_loss: 0.9234 - val_accuracy: 0.7668\n",
            "\n",
            "Epoch 00060: val_loss did not improve from 0.87773\n",
            "Epoch 61/100\n",
            "28/28 [==============================] - 0s 9ms/step - loss: 0.6790 - accuracy: 0.7869 - val_loss: 0.9169 - val_accuracy: 0.7623\n",
            "\n",
            "Epoch 00061: val_loss did not improve from 0.87773\n",
            "Epoch 62/100\n",
            "28/28 [==============================] - 0s 9ms/step - loss: 0.7090 - accuracy: 0.7711 - val_loss: 0.8809 - val_accuracy: 0.7578\n",
            "\n",
            "Epoch 00062: val_loss did not improve from 0.87773\n",
            "Epoch 63/100\n",
            "28/28 [==============================] - 0s 9ms/step - loss: 0.5900 - accuracy: 0.8153 - val_loss: 0.9450 - val_accuracy: 0.7534\n",
            "\n",
            "Epoch 00063: val_loss did not improve from 0.87773\n",
            "Epoch 64/100\n",
            "28/28 [==============================] - 0s 9ms/step - loss: 0.5633 - accuracy: 0.8228 - val_loss: 0.8809 - val_accuracy: 0.7713\n",
            "\n",
            "Epoch 00064: val_loss did not improve from 0.87773\n",
            "Epoch 65/100\n",
            "28/28 [==============================] - 0s 10ms/step - loss: 0.5175 - accuracy: 0.8425 - val_loss: 0.9429 - val_accuracy: 0.7758\n",
            "\n",
            "Epoch 00065: val_loss did not improve from 0.87773\n",
            "Epoch 66/100\n",
            "28/28 [==============================] - 0s 9ms/step - loss: 0.5039 - accuracy: 0.8282 - val_loss: 0.9882 - val_accuracy: 0.7713\n",
            "\n",
            "Epoch 00066: val_loss did not improve from 0.87773\n",
            "Epoch 67/100\n",
            "28/28 [==============================] - 0s 9ms/step - loss: 0.5021 - accuracy: 0.8363 - val_loss: 1.1644 - val_accuracy: 0.7578\n",
            "\n",
            "Epoch 00067: val_loss did not improve from 0.87773\n",
            "Epoch 68/100\n",
            "28/28 [==============================] - 0s 9ms/step - loss: 0.5906 - accuracy: 0.8307 - val_loss: 0.9844 - val_accuracy: 0.7578\n",
            "\n",
            "Epoch 00068: val_loss did not improve from 0.87773\n",
            "Epoch 69/100\n",
            "28/28 [==============================] - 0s 10ms/step - loss: 0.5636 - accuracy: 0.8018 - val_loss: 0.9814 - val_accuracy: 0.7623\n",
            "\n",
            "Epoch 00069: val_loss did not improve from 0.87773\n",
            "Epoch 70/100\n",
            "28/28 [==============================] - 0s 9ms/step - loss: 0.4906 - accuracy: 0.8555 - val_loss: 0.9765 - val_accuracy: 0.7668\n",
            "\n",
            "Epoch 00070: val_loss did not improve from 0.87773\n",
            "Epoch 71/100\n",
            "28/28 [==============================] - 0s 10ms/step - loss: 0.4877 - accuracy: 0.8235 - val_loss: 1.0363 - val_accuracy: 0.7758\n",
            "\n",
            "Epoch 00071: val_loss did not improve from 0.87773\n",
            "Epoch 72/100\n",
            "28/28 [==============================] - 0s 10ms/step - loss: 0.4737 - accuracy: 0.8506 - val_loss: 0.9383 - val_accuracy: 0.7803\n",
            "\n",
            "Epoch 00072: val_loss did not improve from 0.87773\n",
            "Epoch 73/100\n",
            "28/28 [==============================] - 0s 10ms/step - loss: 0.4733 - accuracy: 0.8474 - val_loss: 0.9924 - val_accuracy: 0.7803\n",
            "\n",
            "Epoch 00073: val_loss did not improve from 0.87773\n",
            "Epoch 74/100\n",
            "28/28 [==============================] - 0s 10ms/step - loss: 0.4200 - accuracy: 0.8685 - val_loss: 0.9528 - val_accuracy: 0.7982\n",
            "\n",
            "Epoch 00074: val_loss did not improve from 0.87773\n",
            "Epoch 75/100\n",
            "28/28 [==============================] - 0s 9ms/step - loss: 0.4665 - accuracy: 0.8507 - val_loss: 1.0635 - val_accuracy: 0.7758\n",
            "\n",
            "Epoch 00075: val_loss did not improve from 0.87773\n",
            "Epoch 76/100\n",
            "28/28 [==============================] - 0s 9ms/step - loss: 0.4471 - accuracy: 0.8548 - val_loss: 0.9967 - val_accuracy: 0.7758\n",
            "\n",
            "Epoch 00076: val_loss did not improve from 0.87773\n",
            "Epoch 77/100\n",
            "28/28 [==============================] - 0s 9ms/step - loss: 0.3990 - accuracy: 0.8676 - val_loss: 0.9982 - val_accuracy: 0.7982\n",
            "\n",
            "Epoch 00077: val_loss did not improve from 0.87773\n",
            "Epoch 78/100\n",
            "28/28 [==============================] - 0s 10ms/step - loss: 0.4354 - accuracy: 0.8480 - val_loss: 1.2437 - val_accuracy: 0.7623\n",
            "\n",
            "Epoch 00078: val_loss did not improve from 0.87773\n",
            "Epoch 79/100\n",
            "28/28 [==============================] - 0s 10ms/step - loss: 0.4498 - accuracy: 0.8507 - val_loss: 0.9990 - val_accuracy: 0.7713\n",
            "\n",
            "Epoch 00079: val_loss did not improve from 0.87773\n",
            "Epoch 80/100\n",
            "28/28 [==============================] - 0s 11ms/step - loss: 0.4840 - accuracy: 0.8351 - val_loss: 1.0412 - val_accuracy: 0.7758\n",
            "\n",
            "Epoch 00080: val_loss did not improve from 0.87773\n",
            "Epoch 81/100\n",
            "28/28 [==============================] - 0s 11ms/step - loss: 0.5057 - accuracy: 0.8615 - val_loss: 0.8777 - val_accuracy: 0.7848\n",
            "\n",
            "Epoch 00081: val_loss improved from 0.87773 to 0.87767, saving model to model.h5\n",
            "Epoch 82/100\n",
            "28/28 [==============================] - 0s 11ms/step - loss: 0.4850 - accuracy: 0.8454 - val_loss: 1.0605 - val_accuracy: 0.7713\n",
            "\n",
            "Epoch 00082: val_loss did not improve from 0.87767\n",
            "Epoch 83/100\n",
            "28/28 [==============================] - 0s 10ms/step - loss: 0.4784 - accuracy: 0.8366 - val_loss: 1.0483 - val_accuracy: 0.7489\n",
            "\n",
            "Epoch 00083: val_loss did not improve from 0.87767\n",
            "Epoch 84/100\n",
            "28/28 [==============================] - 0s 9ms/step - loss: 0.4797 - accuracy: 0.8297 - val_loss: 1.0752 - val_accuracy: 0.7758\n",
            "\n",
            "Epoch 00084: val_loss did not improve from 0.87767\n",
            "Epoch 85/100\n",
            "28/28 [==============================] - 0s 10ms/step - loss: 0.4596 - accuracy: 0.8508 - val_loss: 1.0648 - val_accuracy: 0.7623\n",
            "\n",
            "Epoch 00085: val_loss did not improve from 0.87767\n",
            "Epoch 86/100\n",
            "28/28 [==============================] - 0s 9ms/step - loss: 0.4717 - accuracy: 0.8490 - val_loss: 1.0446 - val_accuracy: 0.7668\n",
            "\n",
            "Epoch 00086: val_loss did not improve from 0.87767\n",
            "Epoch 87/100\n",
            "28/28 [==============================] - 0s 9ms/step - loss: 0.4079 - accuracy: 0.8637 - val_loss: 1.0968 - val_accuracy: 0.7668\n",
            "\n",
            "Epoch 00087: val_loss did not improve from 0.87767\n",
            "Epoch 88/100\n",
            "28/28 [==============================] - 0s 9ms/step - loss: 0.4207 - accuracy: 0.8592 - val_loss: 1.0458 - val_accuracy: 0.7803\n",
            "\n",
            "Epoch 00088: val_loss did not improve from 0.87767\n",
            "Epoch 89/100\n",
            "28/28 [==============================] - 0s 9ms/step - loss: 0.4345 - accuracy: 0.8664 - val_loss: 1.0446 - val_accuracy: 0.7848\n",
            "\n",
            "Epoch 00089: val_loss did not improve from 0.87767\n",
            "Epoch 90/100\n",
            "28/28 [==============================] - 0s 10ms/step - loss: 0.4309 - accuracy: 0.8655 - val_loss: 0.9686 - val_accuracy: 0.7758\n",
            "\n",
            "Epoch 00090: val_loss did not improve from 0.87767\n",
            "Epoch 91/100\n",
            "28/28 [==============================] - 0s 9ms/step - loss: 0.4076 - accuracy: 0.8565 - val_loss: 1.0590 - val_accuracy: 0.7803\n",
            "\n",
            "Epoch 00091: val_loss did not improve from 0.87767\n",
            "Epoch 92/100\n",
            "28/28 [==============================] - 0s 10ms/step - loss: 0.3605 - accuracy: 0.8900 - val_loss: 1.0294 - val_accuracy: 0.7713\n",
            "\n",
            "Epoch 00092: val_loss did not improve from 0.87767\n",
            "Epoch 93/100\n",
            "28/28 [==============================] - 0s 10ms/step - loss: 0.3905 - accuracy: 0.8810 - val_loss: 1.1268 - val_accuracy: 0.7713\n",
            "\n",
            "Epoch 00093: val_loss did not improve from 0.87767\n",
            "Epoch 94/100\n",
            "28/28 [==============================] - 0s 10ms/step - loss: 0.3659 - accuracy: 0.8860 - val_loss: 1.0929 - val_accuracy: 0.7848\n",
            "\n",
            "Epoch 00094: val_loss did not improve from 0.87767\n",
            "Epoch 95/100\n",
            "28/28 [==============================] - 0s 11ms/step - loss: 0.3503 - accuracy: 0.8927 - val_loss: 1.1061 - val_accuracy: 0.7623\n",
            "\n",
            "Epoch 00095: val_loss did not improve from 0.87767\n",
            "Epoch 96/100\n",
            "28/28 [==============================] - 0s 10ms/step - loss: 0.4571 - accuracy: 0.8474 - val_loss: 1.1847 - val_accuracy: 0.7489\n",
            "\n",
            "Epoch 00096: val_loss did not improve from 0.87767\n",
            "Epoch 97/100\n",
            "28/28 [==============================] - 0s 9ms/step - loss: 0.5277 - accuracy: 0.8444 - val_loss: 1.0940 - val_accuracy: 0.7623\n",
            "\n",
            "Epoch 00097: val_loss did not improve from 0.87767\n",
            "Epoch 98/100\n",
            "28/28 [==============================] - 0s 9ms/step - loss: 0.5789 - accuracy: 0.8287 - val_loss: 0.9211 - val_accuracy: 0.7758\n",
            "\n",
            "Epoch 00098: val_loss did not improve from 0.87767\n",
            "Epoch 99/100\n",
            "28/28 [==============================] - 0s 10ms/step - loss: 0.3789 - accuracy: 0.8886 - val_loss: 0.9700 - val_accuracy: 0.7668\n",
            "\n",
            "Epoch 00099: val_loss did not improve from 0.87767\n",
            "Epoch 100/100\n",
            "28/28 [==============================] - 0s 9ms/step - loss: 0.4431 - accuracy: 0.8593 - val_loss: 0.9935 - val_accuracy: 0.7848\n",
            "\n",
            "Epoch 00100: val_loss did not improve from 0.87767\n"
          ],
          "name": "stdout"
        }
      ]
    },
    {
      "cell_type": "code",
      "metadata": {
        "id": "34_8qirOUg1p",
        "colab": {
          "base_uri": "https://localhost:8080/"
        },
        "outputId": "368a1e45-9e3e-4f8f-ff59-58835da4d497"
      },
      "source": [
        "train_acc = model.evaluate(train_X, train_Y, verbose=1)\r\n",
        "val_acc = model.evaluate(val_X, val_Y, verbose=1)\r\n",
        "print(train_acc)\r\n",
        "print(val_acc)"
      ],
      "execution_count": null,
      "outputs": [
        {
          "output_type": "stream",
          "text": [
            "28/28 [==============================] - 0s 4ms/step - loss: 0.3278 - accuracy: 0.9135\n",
            "7/7 [==============================] - 0s 5ms/step - loss: 0.8777 - accuracy: 0.7848\n",
            "[0.3277706503868103, 0.9134831428527832]\n",
            "[0.8776749968528748, 0.7847533822059631]\n"
          ],
          "name": "stdout"
        }
      ]
    },
    {
      "cell_type": "code",
      "metadata": {
        "id": "XFr99wV8VoVy"
      },
      "source": [
        "model = load_model(\"model.h5\")\r\n",
        "def predictions(text):\r\n",
        "  clean = re.sub(r'[^ a-z A-Z 0-9]', \" \", text)\r\n",
        "  test_word = word_tokenize(clean)\r\n",
        "  test_word = [w.lower() for w in test_word]\r\n",
        "  test_ls = word_tokenizer.texts_to_sequences(test_word)\r\n",
        "  print(test_word)\r\n",
        "  \r\n",
        "\r\n",
        "  if [] in test_ls:\r\n",
        "    test_ls = list(filter(None, test_ls))\r\n",
        "    \r\n",
        "  test_ls = np.array(test_ls).reshape(1, len(test_ls))\r\n",
        " \r\n",
        "  x = padding_doc(test_ls, max_length)\r\n",
        "  \r\n",
        "  pred = model.predict(x)\r\n",
        "  \r\n",
        "  return pred"
      ],
      "execution_count": null,
      "outputs": []
    },
    {
      "cell_type": "code",
      "metadata": {
        "id": "AmtRzFnRVqbR"
      },
      "source": [
        "def get_final_output(pred, classes):\r\n",
        "  predictions = pred[0]\r\n",
        "  \r\n",
        "  classes = np.array(classes)\r\n",
        "  ids = np.argsort(-predictions)\r\n",
        "  classes = classes[ids]\r\n",
        "  predictions = -np.sort(-predictions)\r\n",
        "  outputPred = predictions[1]\r\n",
        "  for i in range(pred.shape[1]):\r\n",
        "    if(outputPred <= predictions[i]):\r\n",
        "      outputPred = predictions[i]\r\n",
        "  outputClass = classes[np.where(predictions == outputPred)[0][0]]\r\n",
        "  print(\"Class: \",outputClass)"
      ],
      "execution_count": null,
      "outputs": []
    },
    {
      "cell_type": "code",
      "metadata": {
        "id": "T46K6tPBVuaP"
      },
      "source": [
        "text = input(\"Enter Sentence: \")\r\n",
        "pred = predictions(text)\r\n",
        "get_final_output(pred, unique_intent)"
      ],
      "execution_count": null,
      "outputs": []
    },
    {
      "cell_type": "code",
      "metadata": {
        "id": "CwAUUH45i860"
      },
      "source": [
        "a"
      ],
      "execution_count": null,
      "outputs": []
    },
    {
      "cell_type": "code",
      "metadata": {
        "id": "9fRpaMuyKd7Y"
      },
      "source": [
        ""
      ],
      "execution_count": null,
      "outputs": []
    }
  ]
}